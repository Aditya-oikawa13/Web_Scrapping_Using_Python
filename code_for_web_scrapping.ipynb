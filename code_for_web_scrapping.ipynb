{
 "cells": [
  {
   "cell_type": "code",
   "execution_count": 2,
   "metadata": {},
   "outputs": [],
   "source": [
    "from bs4 import BeautifulSoup\n",
    "import requests"
   ]
  },
  {
   "attachments": {},
   "cell_type": "markdown",
   "metadata": {},
   "source": [
    "Importing BeautifulSop from bs4 and importing requests."
   ]
  },
  {
   "cell_type": "code",
   "execution_count": 3,
   "metadata": {},
   "outputs": [],
   "source": [
    "html_text = requests.get('https://website.nitrkl.ac.in/Academics/AcademicDepartments/CurriculaDetails.aspx?d=Q0g6Q2hlbWljYWwgRW5naW5lZXJpbmc=-dmhpvpMkqIU=&di=Ng==-dYSTlPCIpzE=&c=Q2hlbWljYWwgRW5naW5lZXJpbmcgKEIuVGVjaC4gLSA0eXJzKQ==-Qpv4BN16nww=&t=VUc=-/CGGPdtU1IU=').text"
   ]
  },
  {
   "attachments": {},
   "cell_type": "markdown",
   "metadata": {},
   "source": [
    "Storing HTML content in a variable html_text."
   ]
  },
  {
   "cell_type": "code",
   "execution_count": 4,
   "metadata": {},
   "outputs": [],
   "source": [
    "soup = BeautifulSoup(html_text, 'lxml')"
   ]
  },
  {
   "attachments": {},
   "cell_type": "markdown",
   "metadata": {},
   "source": [
    "Using lxml library to parse the html text."
   ]
  },
  {
   "cell_type": "code",
   "execution_count": 5,
   "metadata": {},
   "outputs": [],
   "source": [
    "fifth_sem = soup.find('div', id = 'collapse5')"
   ]
  },
  {
   "attachments": {},
   "cell_type": "markdown",
   "metadata": {},
   "source": [
    "Finding fifth sem from all the semesters available."
   ]
  },
  {
   "cell_type": "code",
   "execution_count": 6,
   "metadata": {},
   "outputs": [],
   "source": [
    "links = fifth_sem.find_all('a')"
   ]
  },
  {
   "attachments": {},
   "cell_type": "markdown",
   "metadata": {},
   "source": [
    "Finding all the links for different subjects."
   ]
  },
  {
   "cell_type": "code",
   "execution_count": 7,
   "metadata": {},
   "outputs": [
    {
     "name": "stdout",
     "output_type": "stream",
     "text": [
      "\n",
      "                    Subject {L-T-P / C} : CH3111 : Process Equipment Design {3-1-0 / 4}\n",
      "                \n",
      "\n",
      "                    Coordinator : Prof. Abanti Sahoo\n",
      "                \n",
      "\n",
      "                    Detailed process design of the following equipment’s Heat exchangers concentric tube, shell and tube types, Condensers –condenser coolers and superheater condensers for single vapour––only, Evaporators single and multi-effects, Absorbers for binary systems without reactions,– Distillation  columns for  binary  mixtures  along  with  tray  hydraulics,  Rotary  dryers  Multi- component Distillation Column Design. Design of storage tanks, pressure vessels and auxiliaries like nozzles, flanges, head and supports such as bracket, skirt and saddle support.\n",
      "                \n",
      "\n",
      "                    Subject {L-T-P / C} : CH3113 : Mass Transfer Operations– II {3-0-0 / 3}\n",
      "                \n",
      "\n",
      "                    Coordinator : Prof. Pradip Chowdhury\n",
      "                \n",
      "\n",
      "                    Humidification and dehumidification: Basic terminologies, Wet bulb and adiabatic saturation temperatures, Psychrometric chart and its use, Cooling tower calculations and design, Drying: Drying equilibria, Drying rate curve, Classification of drying equipments and their design methodologies, Solid-Liquid extraction or Leaching: Solid-liquid contacting strategy and equilibrium, Supercritical fluid extraction, Liquid-Liquid extraction: Liquid-Liquid equilibria (LLE), Solvent selection, Design calculations of stage wise extraction, Triangular diagram, Adsorption: Characteristics and properties of adsorbents, Adsorption isotherms, Heat of adsorption, Breakthrough analysis, Pressure swing and temperature swing adsorption, Simulated moving bed systems, Crystallization: Nucleation and crystal growth, Crystal size distribution, Equipment for solution crystallization:  batch crystallizers, cooling crystallizers, vacuum and evaporating crystallizers, Membrane separation: Materials, Types and preparation of membranes, membrane characterization, Transport in membranes, Microfiltration, Ultrafiltration, Nano filtration, Reverse Osmosis and Pervaporation.\n",
      "                \n",
      "\n",
      "                    Subject {L-T-P / C} : CH3215 : Processing and Handling of Materials {3-0-0 / 3}\n",
      "                \n",
      "\n",
      "                    Coordinator : Prof. Akhilesh Kumar Sahu\n",
      "                \n",
      "\n",
      "                    Characteristics  of  a single  particle:  Size,  shape,  surface  area,  volume,  Properties  of  solids.   Characteristics of a collection of particles: Particle Size Distribution: Specific surface of mixture, average particle size, Number of particles, Screen  analysis:  Effectiveness of screen, Industrial screening  equipment’s,  Size  reduction:  Factors  affecting  communication,  Laws  of  communication, Industrial equipment’s  Particle Dynamics: Single Particle: Settling velocity, Effect of shape, Wall effect,  Mixture  of  Particles:  hindered  settling   Separation  of  particles:  Solid-solid  separation: Classification,  Jigging,  Magnetic  and  Electrostatic  separations,  Liquid-solid  separation: Sedimentation,  Filtration,  Hydro-Cyclones,  Gas-solid  separation:  Flotation    Mixing  and Agitation: Phenomena of mixing and agitation, Circulation, velocities and power consumption in agitated vessels, Solid-liquid mixing, solid-solid mixing  Particle transport and storage: Storage of  solids:  Hopper,  Bins  &  Silos,  Mechanical  conveyers,  Gas-solid:  Pneumatic  transport  in horizontal  and  vertical  pipelines,  Liquid-solid:  Hydraulic  transport  Beneficiation  circuits  of Minerals: Chalcopyrite’s, Sphalerites, Galena and Bauxite.\n",
      "                \n",
      "\n",
      "                    Subject {L-T-P / C} : CH3217 : Chemical Process Technology {3-0-0 / 3}\n",
      "                \n",
      "\n",
      "                    Coordinator : Prof. Arvind Kumar\n",
      "                \n",
      "\n",
      "                    Introduction of  CPT with reference to  Indian resources, industries,  trade and export potential, small  scale  industries  and  rural  development.  Preparation of  process  flow  diagrams, Instrumentation diagrams  and Process  symbols.  Introduction  to the following industries lying emphasis  on  process  flow  sheet,  material  requirements,  process  conditions,  material  of construction and design aspects. Chlor-Alkali Industries: Manufacture of Soda ash, Caustic soda and Chlorine. Acids Manufacture of Sulphuric acid, Hydrochloric acid and Nitric acid. Electro thermal Industries: Manufacture of Silicon Carbide and Calcium Carbide. Extraction and Refining of edible oil, Fat splitting and Hydrogenation of oil. Soaps and Detergents, recovery of Glycerin.Production of Pulp, Paper and Rayon. Fermentation Industries:  Manufacture of Industrial  alcohol, Absolute  alcohol and allied products. Manufacture of Sugar, Starch and its derivatives. Coal based Chemical Industries.\n",
      "                \n",
      "\n",
      "                    Subject {L-T-P / C} : CH3311 : Chemical Engineering Mathematics {3-0-0 / 3}\n",
      "                \n",
      "\n",
      "                    Coordinator : Prof. Basudeb Munshi\n",
      "                \n",
      "\n",
      "Finite difference technique, method of lines, alternate direction technique, Galerkin finite element technique. 8 lecture hoursue, shooting techniques. 10 lecture hoursh coupled algebraic equations. 10 lecturers.\n",
      "                \n",
      "\n",
      "                    Subject {L-T-P / C} : CH3171 : Heat Transfer Operations Laboratory {0-0-3 / 2}\n",
      "                \n",
      "\n",
      "                    Coordinator : Prof. Soumya Sanjeeb Mohapatra\n",
      "                \n",
      "\n",
      "12.\tStudy economy and the capacity of single effect evaporator and determine overall heat transfer co-efficientl.\n",
      "                \n",
      "\n",
      "                    Subject {L-T-P / C} : CH3275 : Chemical Reaction Engineering Laboratory {0-0-3 / 2}\n",
      "                \n",
      "\n",
      "                    Coordinator : Prof. Sujit Sen\n",
      "                \n",
      "\n",
      "12.\tStudy and operation of a coiled tubular reactor.reactorctortor\n",
      "                \n",
      "\n",
      "                    Subject {L-T-P / C} : CH3471 : Fuels and Combustion Laboratory {0-0-2 / 1}\n",
      "                \n",
      "\n",
      "                    Coordinator : Prof. Pradip Chowdhury\n",
      "                \n",
      "\n",
      "12.\tTo determine the viscosity of peroleum products using Saybolt viscometer apparatusuelsean and Stark apparatusmeter\n",
      "                \n"
     ]
    }
   ],
   "source": [
    "for subject in links:\n",
    "    link = subject.get('href')\n",
    "    link = \" https://website.nitrkl.ac.in/Academics/AcademicDepartments/\"  + link\n",
    "    link_text = requests.get(link).text\n",
    "    soup1 = BeautifulSoup(link_text, 'lxml')\n",
    "    subject_info = soup1.find('div', class_ = 'col-md-12',style=\"text-align: justify; padding-bottom: 10px;\").text\n",
    "    syllabus = soup1.find('div', class_ = 'col-md-12 text-justify').text\n",
    "    coordinator = soup1.find('div', class_ = 'col-md-12', style=\"text-align: justify;\").text\n",
    "    print(subject_info)\n",
    "    print(coordinator)\n",
    "    print(syllabus)\n",
    "   "
   ]
  },
  {
   "attachments": {},
   "cell_type": "markdown",
   "metadata": {},
   "source": [
    "Iterating over all the links using for loop to get the data of all subjects in fifth sem."
   ]
  },
  {
   "cell_type": "code",
   "execution_count": null,
   "metadata": {},
   "outputs": [],
   "source": []
  }
 ],
 "metadata": {
  "kernelspec": {
   "display_name": "Python 3",
   "language": "python",
   "name": "python3"
  },
  "language_info": {
   "codemirror_mode": {
    "name": "ipython",
    "version": 3
   },
   "file_extension": ".py",
   "mimetype": "text/x-python",
   "name": "python",
   "nbconvert_exporter": "python",
   "pygments_lexer": "ipython3",
   "version": "3.9.13"
  },
  "orig_nbformat": 4
 },
 "nbformat": 4,
 "nbformat_minor": 2
}
